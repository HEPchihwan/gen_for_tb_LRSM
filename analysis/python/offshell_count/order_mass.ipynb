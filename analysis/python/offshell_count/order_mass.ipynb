{
 "cells": [
  {
   "cell_type": "code",
   "execution_count": 1,
   "id": "57059838",
   "metadata": {},
   "outputs": [],
   "source": [
    "import pandas as pd\n",
    "\n",
    "# CSV 파일 읽기\n",
    "df = pd.read_csv(\"/data6/Users/snuintern1/tbchannel/gen_for_tb_LRSM/analysis/result/offshell_count/mass_reco_summary_counts_electron.csv\")  # 파일 이름을 실제 경로로 바꿔주세요\n",
    "\n",
    "# 정렬: WR_mass 오름차순, 그 다음 N_mass 오름차순\n",
    "df_sorted = df.sort_values(by=[\"WR_mass\", \"N_mass\"])\n",
    "\n",
    "# 정렬된 결과 저장 (선|택)\n",
    "df_sorted.to_csv(\"/data6/Users/snuintern1/tbchannel/gen_for_tb_LRSM/analysis/result/offshell_count/sorted_output_electron.csv\", index=False)\n",
    "\n",
    "\n"
   ]
  },
  {
   "cell_type": "code",
   "execution_count": 2,
   "id": "50027b19",
   "metadata": {},
   "outputs": [],
   "source": [
    "import pandas as pd\n",
    "\n",
    "# CSV 파일 읽기\n",
    "df = pd.read_csv(\"/data6/Users/snuintern1/tbchannel/gen_for_tb_LRSM/analysis/result/offshell_count/mass_reco_summary_counts_muon.csv\")  # 파일 이름을 실제 경로로 바꿔주세요\n",
    "\n",
    "# 정렬: WR_mass 오름차순, 그 다음 N_mass 오름차순\n",
    "df_sorted = df.sort_values(by=[\"WR_mass\", \"N_mass\"])\n",
    "\n",
    "# 정렬된 결과 저장 (선|택)\n",
    "df_sorted.to_csv(\"/data6/Users/snuintern1/tbchannel/gen_for_tb_LRSM/analysis/result/offshell_count/sorted_output_muon.csv\", index=False)\n",
    "\n",
    "\n"
   ]
  },
  {
   "cell_type": "code",
   "execution_count": null,
   "id": "9e7b737c",
   "metadata": {},
   "outputs": [],
   "source": []
  }
 ],
 "metadata": {
  "kernelspec": {
   "display_name": "lhe_env",
   "language": "python",
   "name": "python3"
  },
  "language_info": {
   "codemirror_mode": {
    "name": "ipython",
    "version": 3
   },
   "file_extension": ".py",
   "mimetype": "text/x-python",
   "name": "python",
   "nbconvert_exporter": "python",
   "pygments_lexer": "ipython3",
   "version": "3.10.16"
  }
 },
 "nbformat": 4,
 "nbformat_minor": 5
}
